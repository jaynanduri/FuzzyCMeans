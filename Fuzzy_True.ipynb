{
 "cells": [
  {
   "cell_type": "code",
   "execution_count": 1,
   "metadata": {},
   "outputs": [],
   "source": [
    "\n",
    "import numpy as np\n",
    "import pandas as pd\n",
    "from numpy import linalg as LA\n",
    "from scipy.spatial.distance import cdist\n",
    "import math\n",
    "import random\n",
    "import copy\n",
    "c=2\n",
    "m=2\n",
    "e=0.01\n",
    "dz=pd.read_excel('Comparisons - as given to MEC Students.xlsx',sheet_name='Data Set 7',header=None)\n",
    "#data=dz.drop([11800,11801,11802,11803,11804])\n",
    "#data.columns=['x','y']\n",
    "#Z=np.array(data.drop(columns=['If Breakout Case']))\n"
   ]
  },
  {
   "cell_type": "code",
   "execution_count": 2,
   "metadata": {},
   "outputs": [
    {
     "data": {
      "text/html": [
       "<div>\n",
       "<style scoped>\n",
       "    .dataframe tbody tr th:only-of-type {\n",
       "        vertical-align: middle;\n",
       "    }\n",
       "\n",
       "    .dataframe tbody tr th {\n",
       "        vertical-align: top;\n",
       "    }\n",
       "\n",
       "    .dataframe thead th {\n",
       "        text-align: right;\n",
       "    }\n",
       "</style>\n",
       "<table border=\"1\" class=\"dataframe\">\n",
       "  <thead>\n",
       "    <tr style=\"text-align: right;\">\n",
       "      <th></th>\n",
       "      <th>0</th>\n",
       "      <th>1</th>\n",
       "    </tr>\n",
       "  </thead>\n",
       "  <tbody>\n",
       "    <tr>\n",
       "      <th>0</th>\n",
       "      <td>5.5607</td>\n",
       "      <td>5.1980</td>\n",
       "    </tr>\n",
       "    <tr>\n",
       "      <th>1</th>\n",
       "      <td>2.8222</td>\n",
       "      <td>4.6723</td>\n",
       "    </tr>\n",
       "    <tr>\n",
       "      <th>2</th>\n",
       "      <td>3.8615</td>\n",
       "      <td>5.2383</td>\n",
       "    </tr>\n",
       "    <tr>\n",
       "      <th>3</th>\n",
       "      <td>7.4969</td>\n",
       "      <td>4.7704</td>\n",
       "    </tr>\n",
       "    <tr>\n",
       "      <th>4</th>\n",
       "      <td>4.5587</td>\n",
       "      <td>4.5600</td>\n",
       "    </tr>\n",
       "    <tr>\n",
       "      <th>5</th>\n",
       "      <td>6.3981</td>\n",
       "      <td>5.6169</td>\n",
       "    </tr>\n",
       "    <tr>\n",
       "      <th>6</th>\n",
       "      <td>5.2551</td>\n",
       "      <td>4.7252</td>\n",
       "    </tr>\n",
       "    <tr>\n",
       "      <th>7</th>\n",
       "      <td>4.8356</td>\n",
       "      <td>4.3989</td>\n",
       "    </tr>\n",
       "    <tr>\n",
       "      <th>8</th>\n",
       "      <td>4.2523</td>\n",
       "      <td>4.9077</td>\n",
       "    </tr>\n",
       "    <tr>\n",
       "      <th>9</th>\n",
       "      <td>5.2730</td>\n",
       "      <td>3.2702</td>\n",
       "    </tr>\n",
       "    <tr>\n",
       "      <th>10</th>\n",
       "      <td>3.4237</td>\n",
       "      <td>5.6086</td>\n",
       "    </tr>\n",
       "    <tr>\n",
       "      <th>11</th>\n",
       "      <td>5.4809</td>\n",
       "      <td>5.7371</td>\n",
       "    </tr>\n",
       "    <tr>\n",
       "      <th>12</th>\n",
       "      <td>4.6725</td>\n",
       "      <td>6.7499</td>\n",
       "    </tr>\n",
       "    <tr>\n",
       "      <th>13</th>\n",
       "      <td>4.3353</td>\n",
       "      <td>4.0895</td>\n",
       "    </tr>\n",
       "    <tr>\n",
       "      <th>14</th>\n",
       "      <td>4.9148</td>\n",
       "      <td>4.1329</td>\n",
       "    </tr>\n",
       "    <tr>\n",
       "      <th>15</th>\n",
       "      <td>4.1190</td>\n",
       "      <td>5.0799</td>\n",
       "    </tr>\n",
       "    <tr>\n",
       "      <th>16</th>\n",
       "      <td>4.6768</td>\n",
       "      <td>4.1015</td>\n",
       "    </tr>\n",
       "    <tr>\n",
       "      <th>17</th>\n",
       "      <td>5.7841</td>\n",
       "      <td>4.8163</td>\n",
       "    </tr>\n",
       "    <tr>\n",
       "      <th>18</th>\n",
       "      <td>6.8054</td>\n",
       "      <td>4.7092</td>\n",
       "    </tr>\n",
       "    <tr>\n",
       "      <th>19</th>\n",
       "      <td>3.1414</td>\n",
       "      <td>4.8871</td>\n",
       "    </tr>\n",
       "    <tr>\n",
       "      <th>20</th>\n",
       "      <td>5.6045</td>\n",
       "      <td>4.5600</td>\n",
       "    </tr>\n",
       "    <tr>\n",
       "      <th>21</th>\n",
       "      <td>4.8966</td>\n",
       "      <td>4.8983</td>\n",
       "    </tr>\n",
       "    <tr>\n",
       "      <th>22</th>\n",
       "      <td>4.4368</td>\n",
       "      <td>2.2127</td>\n",
       "    </tr>\n",
       "    <tr>\n",
       "      <th>23</th>\n",
       "      <td>4.8864</td>\n",
       "      <td>6.1667</td>\n",
       "    </tr>\n",
       "    <tr>\n",
       "      <th>24</th>\n",
       "      <td>5.9047</td>\n",
       "      <td>6.8543</td>\n",
       "    </tr>\n",
       "    <tr>\n",
       "      <th>25</th>\n",
       "      <td>5.4677</td>\n",
       "      <td>6.1407</td>\n",
       "    </tr>\n",
       "    <tr>\n",
       "      <th>26</th>\n",
       "      <td>5.1249</td>\n",
       "      <td>6.0933</td>\n",
       "    </tr>\n",
       "    <tr>\n",
       "      <th>27</th>\n",
       "      <td>3.5210</td>\n",
       "      <td>5.4336</td>\n",
       "    </tr>\n",
       "    <tr>\n",
       "      <th>28</th>\n",
       "      <td>5.8608</td>\n",
       "      <td>5.1685</td>\n",
       "    </tr>\n",
       "    <tr>\n",
       "      <th>29</th>\n",
       "      <td>4.2153</td>\n",
       "      <td>5.2185</td>\n",
       "    </tr>\n",
       "    <tr>\n",
       "      <th>...</th>\n",
       "      <td>...</td>\n",
       "      <td>...</td>\n",
       "    </tr>\n",
       "    <tr>\n",
       "      <th>870</th>\n",
       "      <td>0.7410</td>\n",
       "      <td>18.0218</td>\n",
       "    </tr>\n",
       "    <tr>\n",
       "      <th>871</th>\n",
       "      <td>-1.5762</td>\n",
       "      <td>15.9535</td>\n",
       "    </tr>\n",
       "    <tr>\n",
       "      <th>872</th>\n",
       "      <td>-0.3806</td>\n",
       "      <td>18.7800</td>\n",
       "    </tr>\n",
       "    <tr>\n",
       "      <th>873</th>\n",
       "      <td>0.0631</td>\n",
       "      <td>17.5284</td>\n",
       "    </tr>\n",
       "    <tr>\n",
       "      <th>874</th>\n",
       "      <td>-0.7016</td>\n",
       "      <td>17.3900</td>\n",
       "    </tr>\n",
       "    <tr>\n",
       "      <th>875</th>\n",
       "      <td>2.5921</td>\n",
       "      <td>24.8727</td>\n",
       "    </tr>\n",
       "    <tr>\n",
       "      <th>876</th>\n",
       "      <td>6.8459</td>\n",
       "      <td>15.9249</td>\n",
       "    </tr>\n",
       "    <tr>\n",
       "      <th>877</th>\n",
       "      <td>-2.8083</td>\n",
       "      <td>17.3828</td>\n",
       "    </tr>\n",
       "    <tr>\n",
       "      <th>878</th>\n",
       "      <td>0.8209</td>\n",
       "      <td>24.2076</td>\n",
       "    </tr>\n",
       "    <tr>\n",
       "      <th>879</th>\n",
       "      <td>-3.1059</td>\n",
       "      <td>14.6333</td>\n",
       "    </tr>\n",
       "    <tr>\n",
       "      <th>880</th>\n",
       "      <td>3.7563</td>\n",
       "      <td>18.8825</td>\n",
       "    </tr>\n",
       "    <tr>\n",
       "      <th>881</th>\n",
       "      <td>4.0248</td>\n",
       "      <td>14.8089</td>\n",
       "    </tr>\n",
       "    <tr>\n",
       "      <th>882</th>\n",
       "      <td>-3.6564</td>\n",
       "      <td>20.0766</td>\n",
       "    </tr>\n",
       "    <tr>\n",
       "      <th>883</th>\n",
       "      <td>5.3592</td>\n",
       "      <td>18.3188</td>\n",
       "    </tr>\n",
       "    <tr>\n",
       "      <th>884</th>\n",
       "      <td>-2.2117</td>\n",
       "      <td>19.1303</td>\n",
       "    </tr>\n",
       "    <tr>\n",
       "      <th>885</th>\n",
       "      <td>1.0670</td>\n",
       "      <td>16.8028</td>\n",
       "    </tr>\n",
       "    <tr>\n",
       "      <th>886</th>\n",
       "      <td>3.2473</td>\n",
       "      <td>18.1130</td>\n",
       "    </tr>\n",
       "    <tr>\n",
       "      <th>887</th>\n",
       "      <td>0.8680</td>\n",
       "      <td>21.1813</td>\n",
       "    </tr>\n",
       "    <tr>\n",
       "      <th>888</th>\n",
       "      <td>6.2392</td>\n",
       "      <td>11.8122</td>\n",
       "    </tr>\n",
       "    <tr>\n",
       "      <th>889</th>\n",
       "      <td>7.3814</td>\n",
       "      <td>13.4168</td>\n",
       "    </tr>\n",
       "    <tr>\n",
       "      <th>890</th>\n",
       "      <td>0.8458</td>\n",
       "      <td>18.5387</td>\n",
       "    </tr>\n",
       "    <tr>\n",
       "      <th>891</th>\n",
       "      <td>-4.2677</td>\n",
       "      <td>15.8631</td>\n",
       "    </tr>\n",
       "    <tr>\n",
       "      <th>892</th>\n",
       "      <td>-0.4125</td>\n",
       "      <td>16.7591</td>\n",
       "    </tr>\n",
       "    <tr>\n",
       "      <th>893</th>\n",
       "      <td>-1.6203</td>\n",
       "      <td>13.7577</td>\n",
       "    </tr>\n",
       "    <tr>\n",
       "      <th>894</th>\n",
       "      <td>-1.4119</td>\n",
       "      <td>15.2379</td>\n",
       "    </tr>\n",
       "    <tr>\n",
       "      <th>895</th>\n",
       "      <td>-2.3192</td>\n",
       "      <td>16.4895</td>\n",
       "    </tr>\n",
       "    <tr>\n",
       "      <th>896</th>\n",
       "      <td>0.6955</td>\n",
       "      <td>15.6855</td>\n",
       "    </tr>\n",
       "    <tr>\n",
       "      <th>897</th>\n",
       "      <td>5.7666</td>\n",
       "      <td>15.3338</td>\n",
       "    </tr>\n",
       "    <tr>\n",
       "      <th>898</th>\n",
       "      <td>-1.2896</td>\n",
       "      <td>16.4454</td>\n",
       "    </tr>\n",
       "    <tr>\n",
       "      <th>899</th>\n",
       "      <td>-0.2013</td>\n",
       "      <td>15.1433</td>\n",
       "    </tr>\n",
       "  </tbody>\n",
       "</table>\n",
       "<p>900 rows × 2 columns</p>\n",
       "</div>"
      ],
      "text/plain": [
       "          0        1\n",
       "0    5.5607   5.1980\n",
       "1    2.8222   4.6723\n",
       "2    3.8615   5.2383\n",
       "3    7.4969   4.7704\n",
       "4    4.5587   4.5600\n",
       "5    6.3981   5.6169\n",
       "6    5.2551   4.7252\n",
       "7    4.8356   4.3989\n",
       "8    4.2523   4.9077\n",
       "9    5.2730   3.2702\n",
       "10   3.4237   5.6086\n",
       "11   5.4809   5.7371\n",
       "12   4.6725   6.7499\n",
       "13   4.3353   4.0895\n",
       "14   4.9148   4.1329\n",
       "15   4.1190   5.0799\n",
       "16   4.6768   4.1015\n",
       "17   5.7841   4.8163\n",
       "18   6.8054   4.7092\n",
       "19   3.1414   4.8871\n",
       "20   5.6045   4.5600\n",
       "21   4.8966   4.8983\n",
       "22   4.4368   2.2127\n",
       "23   4.8864   6.1667\n",
       "24   5.9047   6.8543\n",
       "25   5.4677   6.1407\n",
       "26   5.1249   6.0933\n",
       "27   3.5210   5.4336\n",
       "28   5.8608   5.1685\n",
       "29   4.2153   5.2185\n",
       "..      ...      ...\n",
       "870  0.7410  18.0218\n",
       "871 -1.5762  15.9535\n",
       "872 -0.3806  18.7800\n",
       "873  0.0631  17.5284\n",
       "874 -0.7016  17.3900\n",
       "875  2.5921  24.8727\n",
       "876  6.8459  15.9249\n",
       "877 -2.8083  17.3828\n",
       "878  0.8209  24.2076\n",
       "879 -3.1059  14.6333\n",
       "880  3.7563  18.8825\n",
       "881  4.0248  14.8089\n",
       "882 -3.6564  20.0766\n",
       "883  5.3592  18.3188\n",
       "884 -2.2117  19.1303\n",
       "885  1.0670  16.8028\n",
       "886  3.2473  18.1130\n",
       "887  0.8680  21.1813\n",
       "888  6.2392  11.8122\n",
       "889  7.3814  13.4168\n",
       "890  0.8458  18.5387\n",
       "891 -4.2677  15.8631\n",
       "892 -0.4125  16.7591\n",
       "893 -1.6203  13.7577\n",
       "894 -1.4119  15.2379\n",
       "895 -2.3192  16.4895\n",
       "896  0.6955  15.6855\n",
       "897  5.7666  15.3338\n",
       "898 -1.2896  16.4454\n",
       "899 -0.2013  15.1433\n",
       "\n",
       "[900 rows x 2 columns]"
      ]
     },
     "execution_count": 2,
     "metadata": {},
     "output_type": "execute_result"
    }
   ],
   "source": [
    "dz"
   ]
  },
  {
   "cell_type": "code",
   "execution_count": 43,
   "metadata": {},
   "outputs": [],
   "source": [
    "dz.columns=['x','y']\n",
    "\n",
    "Z=np.array(dz)\n"
   ]
  },
  {
   "cell_type": "code",
   "execution_count": 44,
   "metadata": {},
   "outputs": [],
   "source": [
    "def part_mat(df,cluster):\n",
    "    U=np.random.randint(2,size=(len(df),cluster))\n",
    "    return U"
   ]
  },
  {
   "cell_type": "code",
   "execution_count": 45,
   "metadata": {},
   "outputs": [],
   "source": [
    "def cluster_mean(Z,U,m):\n",
    "    N = len(Z)\n",
    "    n = len(Z[0])\n",
    "    c = len(U[0])\n",
    "    v = np.zeros((c,n))\n",
    "    temp_u = np.zeros((N,c))\n",
    "    for i in range(0,N):\n",
    "        for j in range(0,c):\n",
    "            temp_u[i][j] =((U[i][j])**m)\n",
    "    for j in range(0,c):\n",
    "        for k in range(0,n):\n",
    "            numr = 0\n",
    "            deno = 0\n",
    "            for i in range(0,N):\n",
    "                numr = numr + temp_u[i][j] * Z[i][k]\n",
    "                deno = deno + temp_u[i][j]\n",
    "            v[j][k] = numr/deno\n",
    "    return v\n"
   ]
  },
  {
   "cell_type": "code",
   "execution_count": 46,
   "metadata": {},
   "outputs": [],
   "source": [
    "def distance(v,Z):\n",
    "    N = len(Z)\n",
    "    n = len(Z[0])\n",
    "    c = len(v)\n",
    "    D = np.zeros((N,c))\n",
    "    \n",
    "    for i in range(0,N):\n",
    "        for j in range(0,c):\n",
    "            temp1 = np.subtract(Z[i],v[j])\n",
    "            \n",
    "            temp2 = np.transpose(temp1)\n",
    "            temp3 = np.matmul(temp2,temp1)\n",
    "            \n",
    "            \n",
    "            D[i][j] = math.sqrt(temp3)\n",
    "    \n",
    "    return D"
   ]
  },
  {
   "cell_type": "code",
   "execution_count": 47,
   "metadata": {},
   "outputs": [],
   "source": [
    "def update(D,a,b,m):\n",
    "    p = 2.0/(m-1)\n",
    "    N = len(D)\n",
    "    c = len(D[0])\n",
    "    new_U = np.zeros((a,b))\n",
    "    for i in range(0,N):\n",
    "        temp1 = 1\n",
    "        for j in range(0,c):\n",
    "            if (D[i][j] <= 0):\n",
    "                temp1 = 0\n",
    "                break\n",
    "        if (temp1 == 1):\n",
    "            for j in range(0,c):\n",
    "                temp2 = 0\n",
    "                for k in range(0,c):\n",
    "                    x = float(D[i][j])/D[i][k]\n",
    "                    temp2 = temp2 + (x**p)\n",
    "                new_U[i][j] = 1.0/temp2\n",
    "        else:\n",
    "            for j in range(0,c):\n",
    "                if (D[i][k] == 0):\n",
    "                    new_U[i][j] = 1\n",
    "                else:\n",
    "                    new_U[i][j] = 0\n",
    "    return new_U\n",
    "\n"
   ]
  },
  {
   "cell_type": "code",
   "execution_count": 48,
   "metadata": {},
   "outputs": [],
   "source": [
    "def j(Z,v,U,m):\n",
    "    c = len(v)\n",
    "    N = len(Z)\n",
    "    cost = 0\n",
    "    for i in range(0,N):\n",
    "        for j in range(0,c):\n",
    "            temp1 = np.subtract(Z[i],v[j])\n",
    "            temp2 = np.linalg.norm(temp1)\n",
    "            cost = cost + ((temp2**2) * ((U[i][j])**m))\n",
    "    return cost"
   ]
  },
  {
   "cell_type": "code",
   "execution_count": 49,
   "metadata": {},
   "outputs": [],
   "source": [
    "def fuzzy_c(Z,cluster,m,e):\n",
    "    U=part_mat(Z,cluster)\n",
    "    kq=0\n",
    "    \n",
    "    while(True):\n",
    "        U_old=copy.deepcopy(U)\n",
    "        v=cluster_mean(Z,U,m)\n",
    "        dis=distance(v,Z)\n",
    "        U=update(dis,len(U),len(U[0]),m)\n",
    "        \n",
    "        kq+=1\n",
    "        \n",
    "        if(LA.norm(np.subtract(U,U_old))<e):\n",
    "            cost=j(Z,v,U,m)\n",
    "            \n",
    "            break\n",
    "    return U,kq,cost,v"
   ]
  },
  {
   "cell_type": "code",
   "execution_count": 50,
   "metadata": {},
   "outputs": [],
   "source": [
    "\n",
    "costs=[]\n",
    "centers=[]\n",
    "iters=[]\n",
    "for i in range(2,11):\n",
    "    U,ite,cost,cen=fuzzy_c(Z,i,m,e)\n",
    "    costs.append(cost)\n",
    "    centers.append(cen)\n",
    "    iters.append(ite)\n",
    "\n"
   ]
  },
  {
   "cell_type": "code",
   "execution_count": 51,
   "metadata": {},
   "outputs": [
    {
     "name": "stderr",
     "output_type": "stream",
     "text": [
      "No handles with labels found to put in legend.\n"
     ]
    },
    {
     "data": {
      "image/png": "[encoded data removed]",
      "text/plain": [
       "<matplotlib.figure.Figure at 0x11b834898>"
      ]
     },
     "metadata": {},
     "output_type": "display_data"
    }
   ],
   "source": [
    "import matplotlib.pyplot as plt\n",
    "\n",
    "fig = plt.figure()\n",
    "ax = fig.add_subplot(111)\n",
    "ax.plot(range(2,11), costs)\n",
    "\n",
    "ax2 = ax.twinx()\n",
    "ax2.plot(range(2,11), iters, label='iterations',color='orange')\n",
    "ax.legend()\n",
    "ax.grid()\n",
    "ax.set_xlabel(\"Clusters\")\n",
    "ax.set_ylabel('Objective Function')\n",
    "ax2.set_ylabel('iterations')\n",
    "\n",
    "plt.show()"
   ]
  },
  {
   "cell_type": "code",
   "execution_count": null,
   "metadata": {},
   "outputs": [],
   "source": []
  },
  {
   "cell_type": "code",
   "execution_count": 55,
   "metadata": {},
   "outputs": [],
   "source": [
    "u=fuzzy_c(Z,6,m,e)[0]\n",
    "centers=fuzzy_c(Z,6,m,e)[3]"
   ]
  },
  {
   "cell_type": "code",
   "execution_count": 56,
   "metadata": {},
   "outputs": [],
   "source": [
    "mem=u.argmax(axis=1)\n"
   ]
  },
  {
   "cell_type": "code",
   "execution_count": 57,
   "metadata": {},
   "outputs": [
    {
     "data": {
      "text/plain": [
       "<matplotlib.collections.PathCollection at 0x11bd96908>"
      ]
     },
     "execution_count": 57,
     "metadata": {},
     "output_type": "execute_result"
    },
    {
     "data": {
      "image/png": "[encoded data removed]",
      "text/plain": [
       "<matplotlib.figure.Figure at 0x11bcf1518>"
      ]
     },
     "metadata": {},
     "output_type": "display_data"
    }
   ],
   "source": [
    "colors=['r','b','g','y','c','m']\n",
    "\n",
    "f=lambda x: colors[int(x)]\n",
    "\n",
    "mem=list(map(f,mem))\n",
    "plt.scatter(Z[:,0],Z[:,1],c=mem,s=20)\n",
    "plt.scatter(centers[:,0],centers[:,1],c='black',s=50,marker='*')"
   ]
  },
  {
   "cell_type": "code",
   "execution_count": 58,
   "metadata": {},
   "outputs": [],
   "source": [
    "thmem=[]\n",
    "for i in range(len(u)):\n",
    "    for j in range(len(u[0])):\n",
    "        if(u[i][j]>=0.5):\n",
    "            thmem.append(j)\n",
    "      "
   ]
  },
  {
   "cell_type": "code",
   "execution_count": 59,
   "metadata": {},
   "outputs": [
    {
     "data": {
      "text/plain": [
       "<matplotlib.collections.PathCollection at 0x11bdfd5f8>"
      ]
     },
     "execution_count": 59,
     "metadata": {},
     "output_type": "execute_result"
    },
    {
     "data": {
      "image/png": "[encoded data removed]",
      "text/plain": [
       "<matplotlib.figure.Figure at 0x11bcf1cc0>"
      ]
     },
     "metadata": {},
     "output_type": "display_data"
    }
   ],
   "source": [
    "thmem=list(map(f,thmem))\n",
    "plt.scatter(Z[:,0],Z[:,1],c=thmem,s=20)\n",
    "plt.scatter(centers[:,0],centers[:,1],c='black',s=50,marker='*')"
   ]
  },
  {
   "cell_type": "code",
   "execution_count": null,
   "metadata": {},
   "outputs": [],
   "source": []
  },
  {
   "cell_type": "code",
   "execution_count": 54,
   "metadata": {},
   "outputs": [],
   "source": [
    "with pd.ExcelWriter('cluster_assing.xlsx') as writer:\n",
    "    df_norm.to_excel(writer,sheet_name='fuzzy')"
   ]
  },
  {
   "cell_type": "code",
   "execution_count": null,
   "metadata": {},
   "outputs": [],
   "source": []
  },
  {
   "cell_type": "code",
   "execution_count": null,
   "metadata": {},
   "outputs": [],
   "source": []
  },
  {
   "cell_type": "code",
   "execution_count": 55,
   "metadata": {},
   "outputs": [],
   "source": [
    "norm_u=normalise(u)"
   ]
  },
  {
   "cell_type": "code",
   "execution_count": 13,
   "metadata": {},
   "outputs": [],
   "source": [
    "df_norm_u=pd.DataFrame(u)\n",
    "with pd.ExcelWriter('cluster_assing.xlsx') as writer:\n",
    "    df_norm_u.to_excel(writer,sheet_name='fuzzy_norm')"
   ]
  },
  {
   "cell_type": "code",
   "execution_count": 36,
   "metadata": {},
   "outputs": [],
   "source": [
    "def find_max(arr):\n",
    "    maxs=[]\n",
    "    for i in range(len(arr)):\n",
    "        r=(arr[i].max())\n",
    "        #print(r)\n",
    "        for j in range(len(arr[0])):\n",
    "            if(arr[i][j]==r):\n",
    "                maxs.append(j)\n",
    "    return maxs"
   ]
  },
  {
   "cell_type": "code",
   "execution_count": 38,
   "metadata": {},
   "outputs": [],
   "source": [
    "k=find_max(u)"
   ]
  },
  {
   "cell_type": "code",
   "execution_count": 39,
   "metadata": {},
   "outputs": [],
   "source": [
    "data['cluster']=k"
   ]
  },
  {
   "cell_type": "code",
   "execution_count": 43,
   "metadata": {},
   "outputs": [],
   "source": [
    "val,count0=np.unique(data['If Breakout Case'][data['cluster']==0], return_counts=True)\n",
    "val,count1=np.unique(data['If Breakout Case'][data['cluster']==1], return_counts=True)\n",
    "\n",
    "val,count2=np.unique(data['If Breakout Case'][data['cluster']==2], return_counts=True)\n",
    "\n",
    "val,count3=np.unique(data['If Breakout Case'][data['cluster']==3], return_counts=True)\n",
    "\n"
   ]
  },
  {
   "cell_type": "code",
   "execution_count": 44,
   "metadata": {},
   "outputs": [
    {
     "data": {
      "text/plain": [
       "(array([1456, 1622]), array([3652, 1196]), array([3092,  582]), array([200]))"
      ]
     },
     "execution_count": 44,
     "metadata": {},
     "output_type": "execute_result"
    }
   ],
   "source": [
    "\n",
    "count0,count1,count2,count3"
   ]
  },
  {
   "cell_type": "code",
   "execution_count": 45,
   "metadata": {},
   "outputs": [
    {
     "data": {
      "text/plain": [
       "array([0.])"
      ]
     },
     "execution_count": 45,
     "metadata": {},
     "output_type": "execute_result"
    }
   ],
   "source": []
  },
  {
   "cell_type": "code",
   "execution_count": 61,
   "metadata": {},
   "outputs": [
    {
     "data": {
      "text/plain": [
       "[26463.227512041783,\n",
       " 14177.825716359923,\n",
       " 8666.845270295877,\n",
       " 4106.617096981686,\n",
       " 2405.2642343085686,\n",
       " 2159.629745412085,\n",
       " 1984.3373669488283,\n",
       " 1517.6401875505699,\n",
       " 1351.6347165334864]"
      ]
     },
     "execution_count": 61,
     "metadata": {},
     "output_type": "execute_result"
    }
   ],
   "source": [
    "\n",
    "costs"
   ]
  },
  {
   "cell_type": "code",
   "execution_count": null,
   "metadata": {},
   "outputs": [],
   "source": []
  }
 ],
 "metadata": {
  "kernelspec": {
   "display_name": "Python 3",
   "language": "python",
   "name": "python3"
  },
  "language_info": {
   "codemirror_mode": {
    "name": "ipython",
    "version": 3
   },
   "file_extension": ".py",
   "mimetype": "text/x-python",
   "name": "python",
   "nbconvert_exporter": "python",
   "pygments_lexer": "ipython3",
   "version": "3.6.4"
  }
 },
 "nbformat": 4,
 "nbformat_minor": 2
}
