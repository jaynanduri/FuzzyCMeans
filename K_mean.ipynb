{
 "cells": [
  {
   "cell_type": "code",
   "execution_count": 30,
   "metadata": {},
   "outputs": [],
   "source": [
    "import numpy as np\n",
    "import pandas as pd\n",
    "from numpy import linalg as LA\n",
    "from scipy.spatial import distance_matrix\n",
    "from scipy.spatial.distance import cdist\n",
    "import math\n",
    "import random\n",
    "import copy\n",
    "import matplotlib.pyplot as plt\n",
    "dz=pd.read_excel('Accumulated Data 2010 - original ready for trng & valdtn cases - forANN.xlsx')\n",
    "data=dz.drop([11800,11801,11802,11803,11804])\n",
    "#data.columns=['x','y']\n",
    "Z=np.array(data.drop(columns=['If Breakout Case']))\n"
   ]
  },
  {
   "cell_type": "code",
   "execution_count": 31,
   "metadata": {},
   "outputs": [],
   "source": [
    "def distance(v,Z):\n",
    "    N = len(Z)\n",
    "    n = len(Z[0])\n",
    "    c = len(v)\n",
    "    D = np.zeros((N,c))\n",
    "    \n",
    "    for i in range(0,N):\n",
    "        for j in range(0,c):\n",
    "            temp1 = np.subtract(Z[i],v[j])\n",
    "            \n",
    "            temp2 = np.transpose(temp1)\n",
    "            temp3 = np.matmul(temp2,temp1)\n",
    "            \n",
    "            \n",
    "            D[i][j] = math.sqrt(temp3)\n",
    "    \n",
    "    return D"
   ]
  },
  {
   "cell_type": "code",
   "execution_count": 32,
   "metadata": {},
   "outputs": [],
   "source": [
    "def k_means(X,K):\n",
    "    nrow=X.shape[0]\n",
    "    ncol=X.shape[1]\n",
    "    \n",
    "    initial_centroids= np.random.choice(nrow,K,replace=False)\n",
    "    \n",
    "    centroids=X[initial_centroids]\n",
    "    centroids_old=np.zeros((K,ncol))\n",
    "    \n",
    "    cluster_assignments=np.zeros(nrow)\n",
    "    \n",
    "    while(centroids_old!=centroids).any():\n",
    "        centroids_old=centroids.copy()\n",
    "        \n",
    "        dist_matrix=distance_matrix(X,centroids,p=2)\n",
    "        \n",
    "        for i in np.arange(nrow):\n",
    "            d=dist_matrix[i]\n",
    "            closest_centroid = (np.where(d==np.min(d)))[0][0]\n",
    "           \n",
    "            cluster_assignments[i]=closest_centroid\n",
    "        \n",
    "        for k in np.arange(K):\n",
    "            Xk=X[cluster_assignments==k]\n",
    "            centroids[k] = np.apply_along_axis(np.mean,axis=0,arr=Xk)\n",
    "          \n",
    "    return (centroids,cluster_assignments)"
   ]
  },
  {
   "cell_type": "code",
   "execution_count": 36,
   "metadata": {},
   "outputs": [
    {
     "name": "stdout",
     "output_type": "stream",
     "text": [
      "0.6510122621436635 2\n",
      "0.4440090216821133 3\n",
      "1.0107039176666255 4\n",
      "0.5106799848271185 5\n",
      "0.8552744961925951 6\n",
      "0.49787673418665435 7\n"
     ]
    },
    {
     "ename": "IndexError",
     "evalue": "list index out of range",
     "output_type": "error",
     "traceback": [
      "\u001b[0;31m---------------------------------------------------------------------------\u001b[0m",
      "\u001b[0;31mIndexError\u001b[0m                                Traceback (most recent call last)",
      "\u001b[0;32m<ipython-input-36-bc69ebe08d63>\u001b[0m in \u001b[0;36m<module>\u001b[0;34m()\u001b[0m\n\u001b[1;32m     13\u001b[0m \u001b[0;32mfor\u001b[0m \u001b[0mi\u001b[0m \u001b[0;32min\u001b[0m \u001b[0mrange\u001b[0m\u001b[0;34m(\u001b[0m\u001b[0;36m1\u001b[0m\u001b[0;34m,\u001b[0m\u001b[0;36m10\u001b[0m\u001b[0;34m)\u001b[0m\u001b[0;34m:\u001b[0m\u001b[0;34m\u001b[0m\u001b[0m\n\u001b[1;32m     14\u001b[0m     \u001b[0;32mif\u001b[0m\u001b[0;34m(\u001b[0m\u001b[0mi\u001b[0m\u001b[0;34m!=\u001b[0m\u001b[0;36m1\u001b[0m \u001b[0;32mand\u001b[0m \u001b[0mi\u001b[0m\u001b[0;34m!=\u001b[0m\u001b[0;36m10\u001b[0m\u001b[0;34m)\u001b[0m\u001b[0;34m:\u001b[0m\u001b[0;34m\u001b[0m\u001b[0m\n\u001b[0;32m---> 15\u001b[0;31m         \u001b[0mprint\u001b[0m\u001b[0;34m(\u001b[0m\u001b[0;34m(\u001b[0m\u001b[0mdist\u001b[0m\u001b[0;34m[\u001b[0m\u001b[0mi\u001b[0m\u001b[0;34m]\u001b[0m\u001b[0;34m-\u001b[0m\u001b[0mdist\u001b[0m\u001b[0;34m[\u001b[0m\u001b[0mi\u001b[0m\u001b[0;34m+\u001b[0m\u001b[0;36m1\u001b[0m\u001b[0;34m]\u001b[0m\u001b[0;34m)\u001b[0m\u001b[0;34m/\u001b[0m\u001b[0;34m(\u001b[0m\u001b[0mdist\u001b[0m\u001b[0;34m[\u001b[0m\u001b[0mi\u001b[0m\u001b[0;34m-\u001b[0m\u001b[0;36m1\u001b[0m\u001b[0;34m]\u001b[0m\u001b[0;34m-\u001b[0m\u001b[0mdist\u001b[0m\u001b[0;34m[\u001b[0m\u001b[0mi\u001b[0m\u001b[0;34m]\u001b[0m\u001b[0;34m)\u001b[0m\u001b[0;34m,\u001b[0m\u001b[0mi\u001b[0m\u001b[0;34m)\u001b[0m\u001b[0;34m\u001b[0m\u001b[0m\n\u001b[0m\u001b[1;32m     16\u001b[0m \u001b[0;34m\u001b[0m\u001b[0m\n",
      "\u001b[0;31mIndexError\u001b[0m: list index out of range"
     ]
    }
   ],
   "source": [
    "krange=range(1,10)\n",
    "dist=[]\n",
    "ratio=[]\n",
    "for i in range(1,10):\n",
    "\n",
    "    k_means_result=k_means(Z,i)\n",
    "\n",
    "    centroids=k_means_result[0]\n",
    "\n",
    "    dist.append(sum(np.min(cdist(Z,centroids,'euclidean'),axis=1))/Z.shape[0])\n",
    "    \n",
    "\n",
    "for i in range(1,10):\n",
    "    if(i!=1 and i!=10):\n",
    "        print((dist[i]-dist[i+1])/(dist[i-1]-dist[i]),i)\n",
    "\n"
   ]
  },
  {
   "cell_type": "code",
   "execution_count": 37,
   "metadata": {},
   "outputs": [
    {
     "data": {
      "text/plain": [
       "[<matplotlib.lines.Line2D at 0x61821f470>]"
      ]
     },
     "execution_count": 37,
     "metadata": {},
     "output_type": "execute_result"
    },
    {
     "data": {
      "image/png": "[encoded data removed]",
      "text/plain": [
       "<matplotlib.figure.Figure at 0x6115ffbe0>"
      ]
     },
     "metadata": {},
     "output_type": "display_data"
    }
   ],
   "source": [
    "plt.rcParams['figure.figsize'] = (16, 9)\n",
    "plt.style.use('ggplot')\n",
    "plt.plot(krange,dist,'b')"
   ]
  },
  {
   "cell_type": "code",
   "execution_count": 68,
   "metadata": {},
   "outputs": [],
   "source": [
    "assignment=k_means(Z,4)[1]"
   ]
  },
  {
   "cell_type": "code",
   "execution_count": 69,
   "metadata": {},
   "outputs": [],
   "source": [
    "mem=np.zeros((Z.shape[0],4))"
   ]
  },
  {
   "cell_type": "code",
   "execution_count": 70,
   "metadata": {},
   "outputs": [],
   "source": [
    "for i in range(len(assignment)):\n",
    "    for j in range(4):\n",
    "        if(assignment[i]==j):\n",
    "            mem[i][j]=1\n",
    "        else:\n",
    "            mem[i][j]=0\n"
   ]
  },
  {
   "cell_type": "code",
   "execution_count": 71,
   "metadata": {},
   "outputs": [
    {
     "data": {
      "text/plain": [
       "array([[0., 0., 0., 1.],\n",
       "       [0., 0., 0., 1.],\n",
       "       [0., 0., 0., 1.],\n",
       "       ...,\n",
       "       [0., 0., 0., 1.],\n",
       "       [0., 0., 0., 1.],\n",
       "       [0., 0., 0., 1.]])"
      ]
     },
     "execution_count": 71,
     "metadata": {},
     "output_type": "execute_result"
    }
   ],
   "source": [
    "mem"
   ]
  },
  {
   "cell_type": "code",
   "execution_count": 72,
   "metadata": {},
   "outputs": [],
   "source": [
    "df_no=pd.DataFrame(mem)\n",
    "with pd.ExcelWriter('cluster_assing_km.xlsx') as writer:\n",
    "    df_no.to_excel(writer,sheet_name='K_norm')"
   ]
  },
  {
   "cell_type": "code",
   "execution_count": null,
   "metadata": {},
   "outputs": [],
   "source": []
  }
 ],
 "metadata": {
  "kernelspec": {
   "display_name": "Python 3",
   "language": "python",
   "name": "python3"
  },
  "language_info": {
   "codemirror_mode": {
    "name": "ipython",
    "version": 3
   },
   "file_extension": ".py",
   "mimetype": "text/x-python",
   "name": "python",
   "nbconvert_exporter": "python",
   "pygments_lexer": "ipython3",
   "version": "3.6.4"
  }
 },
 "nbformat": 4,
 "nbformat_minor": 2
}
